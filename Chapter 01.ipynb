{
 "cells": [
  {
   "cell_type": "markdown",
   "metadata": {},
   "source": [
    "# Chapter 1"
   ]
  },
  {
   "cell_type": "markdown",
   "metadata": {},
   "source": [
    "## Note #1 - Computational Graphs and Sessions\n",
    "In Tensorflow, we create the computational graphs first (sort of like blueprints). These computational graphs consists of tensor Objects such as placeholders, constants and variables. They do not have any values associated with them yet. After creating the graphs, we can execute the graph using Session Object. The actual calculations and transfer of information are taken place here. "
   ]
  },
  {
   "cell_type": "code",
   "execution_count": null,
   "metadata": {},
   "outputs": [],
   "source": [
    "import tensorflow as tf"
   ]
  },
  {
   "cell_type": "code",
   "execution_count": null,
   "metadata": {},
   "outputs": [],
   "source": [
    "'''\n",
    "This block is the computational graph that creates two vectors and add them together.\n",
    "'''\n",
    "v_1 = tf.constant([1,2,3,4])\n",
    "v_2 = tf.constant([2,1,5,3])\n",
    "v_add = v_1 + v_2"
   ]
  },
  {
   "cell_type": "code",
   "execution_count": null,
   "metadata": {},
   "outputs": [],
   "source": [
    "'''\n",
    "Here we create the Session object and evaluate the vector addition.\n",
    "'''\n",
    "sess = tf.Session()\n",
    "print(sess.run(v_add))\n",
    "sess.close()"
   ]
  },
  {
   "cell_type": "code",
   "execution_count": null,
   "metadata": {},
   "outputs": [],
   "source": [
    "with tf.Session() as sess:\n",
    "    print(sess.run(v_add)) #advantage of using WITH keyword is that one do no need to close the session"
   ]
  },
  {
   "cell_type": "code",
   "execution_count": null,
   "metadata": {},
   "outputs": [],
   "source": [
    "with tf.Session() as sess:\n",
    "    print(sess.run([v_1,v_2,v_add])) #we can also run more than one tensor Objects in the session run"
   ]
  },
  {
   "cell_type": "markdown",
   "metadata": {},
   "source": [
    "The above codes have also demonstrated that we can have many session objects in the same program code."
   ]
  },
  {
   "cell_type": "markdown",
   "metadata": {},
   "source": [
    "## Note #2 - InteractiveSession\n",
    "Instead of using tf.Session(), using tf.InteractiveSession() is more convenient because it makes itself the default session so that tensor Objects can be run directly using eval() method without explicitly calling the session."
   ]
  },
  {
   "cell_type": "code",
   "execution_count": null,
   "metadata": {},
   "outputs": [],
   "source": [
    "import tensorflow as tf\n",
    "sess = tf.InteractiveSession()"
   ]
  },
  {
   "cell_type": "code",
   "execution_count": null,
   "metadata": {},
   "outputs": [],
   "source": [
    "v_1 = tf.constant([1,2,3,4])\n",
    "v_2 = tf.constant([2,1,5,3])\n",
    "\n",
    "v_add = tf.add(v_1, v_2) # equivalent to v_1 + v_2"
   ]
  },
  {
   "cell_type": "code",
   "execution_count": null,
   "metadata": {},
   "outputs": [],
   "source": [
    "print(v_add.eval()) #there is no need to call session as in the previous exercise\n",
    "sess.close()"
   ]
  },
  {
   "cell_type": "markdown",
   "metadata": {},
   "source": [
    "## Note #3 - Constants"
   ]
  },
  {
   "cell_type": "code",
   "execution_count": null,
   "metadata": {},
   "outputs": [],
   "source": [
    "import tensorflow as tf"
   ]
  },
  {
   "cell_type": "code",
   "execution_count": null,
   "metadata": {},
   "outputs": [],
   "source": [
    "tf.set_random_seed(43) #seed is used to obtain the same random numbers in multiple runs or sessions\n",
    "\n",
    "t_1 = tf.constant(4) #scalar constant\n",
    "t_2 = tf.constant([4,3,2]) #vector constant\n",
    "t_3 = tf.zeros([2,3], tf.int32) #zero matrix of shape [2,3] with dtype of tf.int32\n",
    "t_4 = tf.zeros_like(t_2) #creates a zero matrix of same shape as t_2\n",
    "t_5 = tf.ones_like(t_2) #creates a ones matrix of same shape as t_2\n",
    "t_6 = tf.linspace(2.0, 5.0, 5) #creates a sequence of evenly spaced numbers from #1 argument to #2 argument within total #3 argument value. The corresponding values differ by (#1 arg - #2 arg)/(#3 arg - 1)\n",
    "t_7 = tf.range(0, 10 , 1) #generate a sequence of numbers from #1 arg value to #2 arg value (this value is not included) incremented by #3 arg value.\n",
    "t_8 = tf.random_normal([2,3], mean=2.0, stddev=4) #creates a matrix of shape [2,3] with random values from a normal distribution with the specified mean and s.deviation.\n",
    "t_9 = tf.truncated_normal([1,5], stddev=2) #creates random values from a truncated normal distribution\n",
    "t_10= tf.random_uniform([2,3], maxval=4) #creates a random values from a given gsamma distribution\n",
    "t_11= tf.random_crop(t_9, [2,4]) #randomly crops a given tensor to a specified size\n",
    "t_12= tf.random_shuffle(t_2) #can be used to shuffle a tensor along its first dimension"
   ]
  },
  {
   "cell_type": "markdown",
   "metadata": {},
   "source": [
    "## Note #4 - Variables and Placeholders\n",
    "Every variable has to be initialized. During the initialization, we use constants/random values."
   ]
  },
  {
   "cell_type": "code",
   "execution_count": null,
   "metadata": {},
   "outputs": [],
   "source": [
    "import tensorflow as tf"
   ]
  },
  {
   "cell_type": "code",
   "execution_count": null,
   "metadata": {},
   "outputs": [],
   "source": [
    "rand_t = tf.random_uniform([50,50], 0, 10)\n",
    "var_a = tf.Variable(rand_t)\n",
    "var_b = tf.Variable(rand_t) #both var_a and var_b will be initialized with random uniform distribution. NOTE that the randomization will be diff since the constant is called twice\n",
    "var_c = tf.Variable(var_a.initialized_value(), name='var_c') #a variable can also be initialized from another variable"
   ]
  },
  {
   "cell_type": "code",
   "execution_count": null,
   "metadata": {},
   "outputs": [],
   "source": [
    "#THIS BLOCK OF CODE IS NOT MEANT FOR EXECUTION!\n",
    "#even though we seem to have defined the initialization, we would run into error if we run this block of code.\n",
    "with tf.Session() as sess:\n",
    "    print(sess.run(var_b)) "
   ]
  },
  {
   "cell_type": "markdown",
   "metadata": {},
   "source": [
    "In tensorflow, we have to explicitly initialize **ALL** declared variables. We do so by :"
   ]
  },
  {
   "cell_type": "code",
   "execution_count": null,
   "metadata": {},
   "outputs": [],
   "source": [
    "initial_op = tf.global_variables_initializer() #explicitly initialize the variables\n",
    "with tf.Session() as sess:\n",
    "    sess.run(initial_op) #run the initializer\n",
    "    print(sess.run(var_b)) "
   ]
  },
  {
   "cell_type": "code",
   "execution_count": null,
   "metadata": {},
   "outputs": [],
   "source": [
    "with tf.Session() as sess:\n",
    "    sess.run(var_a.initializer) #each variable can also be separately initialized\n",
    "    print(sess.run(var_a))"
   ]
  },
  {
   "cell_type": "markdown",
   "metadata": {},
   "source": [
    "Variables can be saved by using the Saver class."
   ]
  },
  {
   "cell_type": "code",
   "execution_count": null,
   "metadata": {},
   "outputs": [],
   "source": [
    "#THIS BLOCK OF CODE IS NOT MEANT FOR EXECUTION!\n",
    "saver = tf.train.Saver() #define a saver Operation object\n",
    "saver.save(sess, \"PATH TO SAVE THE MODEL\") #save the model in the specified path"
   ]
  },
  {
   "cell_type": "markdown",
   "metadata": {},
   "source": [
    "Placeholders are used to feed data to the computational graph. When declaring a placeholder, the data type has to be specified."
   ]
  },
  {
   "cell_type": "code",
   "execution_count": null,
   "metadata": {},
   "outputs": [],
   "source": [
    "#THIS BLOCK OF CODE IS NOT MEANT FOR EXECUTION!\n",
    "tf.placeholder(dtype, shape=None, name=None) #declaration of a placeholder"
   ]
  },
  {
   "cell_type": "code",
   "execution_count": null,
   "metadata": {},
   "outputs": [],
   "source": [
    "x = tf.placeholder(\"float\") #declare a placeholder\n",
    "y = 2 * x #operation involving the placeholder\n",
    "\n",
    "data = tf.random_uniform([4,5], 10) #constant\n",
    "with tf.Session() as sess:\n",
    "    x_data = sess.run(data) #run the constant\n",
    "    print(sess.run(y, feed_dict={x:x_data})) #feed the data to the graph with feed_dict"
   ]
  },
  {
   "cell_type": "markdown",
   "metadata": {},
   "source": [
    "## Note #5 - Memory optimization"
   ]
  },
  {
   "cell_type": "markdown",
   "metadata": {},
   "source": [
    "**NOTE** : Constants are stored in the computation graph definition. They are loaded every time the graph is loaded. i.e. They are memory expensive. Variables are stored separately. They can exist on the parameter server."
   ]
  },
  {
   "cell_type": "markdown",
   "metadata": {},
   "source": [
    "Therefore, to optimize memory, we can declare constant tensor objects as variables with a trainable flag set to False."
   ]
  },
  {
   "cell_type": "code",
   "execution_count": null,
   "metadata": {},
   "outputs": [],
   "source": [
    "import tensorflow as tf"
   ]
  },
  {
   "cell_type": "code",
   "execution_count": null,
   "metadata": {},
   "outputs": [],
   "source": [
    "large_tensor = tf.Variable(tf.ones([9,1,2,3,4]), trainable = False)\n",
    "converted_to_tensor = tf.convert_to_tensor(large_tensor) #this function converts the given value to tensor type. It accepts Numpy arrays, Python Lists and Python scalars. Converted values can have the functionalities offered by Tensorflow for tensors."
   ]
  },
  {
   "cell_type": "markdown",
   "metadata": {},
   "source": [
    "## Note #6 - Matrix Multiplications"
   ]
  },
  {
   "cell_type": "code",
   "execution_count": null,
   "metadata": {},
   "outputs": [],
   "source": [
    "import tensorflow as tf\n",
    "\n",
    "sess = tf.InteractiveSession() #easier to evaluate"
   ]
  },
  {
   "cell_type": "code",
   "execution_count": null,
   "metadata": {},
   "outputs": [],
   "source": [
    "X = tf.Variable(tf.eye(10)) #creates a 10 X 10 identity matrix\n",
    "X.initializer.run() #initialize the variable\n",
    "print(X.eval())"
   ]
  },
  {
   "cell_type": "code",
   "execution_count": null,
   "metadata": {},
   "outputs": [],
   "source": [
    "A = tf.Variable(tf.random_normal([5,10])) #shape of A is [5,10]\n",
    "A.initializer.run()\n",
    "print(A.eval())"
   ]
  },
  {
   "cell_type": "code",
   "execution_count": null,
   "metadata": {},
   "outputs": [],
   "source": [
    "prod = tf.matmul(A,X) #matrix multiplication between A and X. Since A is 5 X 10 and X is 10 X 10, prod is 5 X 10\n",
    "print(prod.eval())\n",
    "#tf.matmul(X,A) would not work because X is 10 X 10 while A is 5 X 10"
   ]
  },
  {
   "cell_type": "code",
   "execution_count": null,
   "metadata": {},
   "outputs": [],
   "source": [
    "#THIS BLOCK OF CODE IS NOT MEANT FOR EXECUTION!\n",
    "A = a * b #element-wise multiplication\n",
    "B = tf.scalar_mul(2, A) #multiplication with a scalar 2\n",
    "C = tf.div(a,b) #element-wise division\n",
    "D = tf.mod(a,b) #element-wise remainder of division\n",
    "tf.cast() # this function is used to convert Tensors from one data type to another"
   ]
  },
  {
   "cell_type": "markdown",
   "metadata": {},
   "source": [
    "## Note 7 - Invoking CPU/GPU devices\n",
    "Tensorflow can be used on multiple devices in one or more computer system. The names of the supported devices recognized by Tensorflow are \"/device:CPU:0\" , \"/device:GPU:0\" , \"/device:GPU:i\" for the i-th GPU device."
   ]
  },
  {
   "cell_type": "code",
   "execution_count": 10,
   "metadata": {},
   "outputs": [],
   "source": [
    "import tensorflow as tf\n",
    "\n",
    "config=tf.ConfigProto(allow_soft_placement=True, log_device_placement=True) #this flag is to choose the existing and supported device"
   ]
  },
  {
   "cell_type": "code",
   "execution_count": 11,
   "metadata": {},
   "outputs": [
    {
     "name": "stdout",
     "output_type": "stream",
     "text": [
      "[[1269.2861 1357.3491 1336.2273 ... 1395.2402 1329.1519 1208.7798]\n",
      " [1361.6066 1487.0697 1372.6526 ... 1538.7141 1332.3047 1224.3713]\n",
      " [1381.6553 1293.73   1243.6852 ... 1370.3788 1329.1741 1176.2792]\n",
      " ...\n",
      " [1202.8015 1177.8494 1173.3411 ... 1314.7526 1140.8535 1125.6661]\n",
      " [1322.4246 1275.211  1332.0645 ... 1310.4507 1375.0743 1136.9087]\n",
      " [1468.3232 1459.5945 1518.1958 ... 1270.2776 1395.2687 1382.2439]]\n"
     ]
    }
   ],
   "source": [
    "with tf.device(\"/device:GPU:0\"): #this operation is done using the first GPU\n",
    "    rand_t = tf.random_uniform([50,50], 0,10, dtype=tf.float32)\n",
    "    a = tf.Variable(rand_t)\n",
    "    b = tf.Variable(rand_t)\n",
    "    c = tf.matmul(a,b)\n",
    "    init = tf.global_variables_initializer()\n",
    "\n",
    "sess = tf.Session(config=config)\n",
    "sess.run(init)\n",
    "print(sess.run(c))"
   ]
  }
 ],
 "metadata": {
  "kernelspec": {
   "display_name": "nasa",
   "language": "python",
   "name": "nasa"
  },
  "language_info": {
   "codemirror_mode": {
    "name": "ipython",
    "version": 3
   },
   "file_extension": ".py",
   "mimetype": "text/x-python",
   "name": "python",
   "nbconvert_exporter": "python",
   "pygments_lexer": "ipython3",
   "version": "3.5.2"
  }
 },
 "nbformat": 4,
 "nbformat_minor": 2
}
