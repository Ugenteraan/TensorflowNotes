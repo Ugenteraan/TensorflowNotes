{
 "cells": [
  {
   "cell_type": "markdown",
   "metadata": {},
   "source": [
    "# Chapter 1"
   ]
  },
  {
   "cell_type": "markdown",
   "metadata": {},
   "source": [
    "## Note #1 - Computational Graphs and Sessions\n",
    "In Tensorflow, we create the computational graphs first (sort of like blueprints). These computational graphs consists of tensor Objects such as placeholders, constants and variables. They do not have any values associated with them yet. After creating the graphs, we can execute the graph using Session Object. The actual calculations and transfer of information are taken place here. "
   ]
  },
  {
   "cell_type": "code",
   "execution_count": 9,
   "metadata": {},
   "outputs": [],
   "source": [
    "import tensorflow as tf"
   ]
  },
  {
   "cell_type": "code",
   "execution_count": 10,
   "metadata": {},
   "outputs": [],
   "source": [
    "'''\n",
    "This block is the computational graph that creates two vectors and add them together.\n",
    "'''\n",
    "v_1 = tf.constant([1,2,3,4])\n",
    "v_2 = tf.constant([2,1,5,3])\n",
    "v_add = v_1 + v_2"
   ]
  },
  {
   "cell_type": "code",
   "execution_count": 11,
   "metadata": {},
   "outputs": [
    {
     "name": "stdout",
     "output_type": "stream",
     "text": [
      "[3 3 8 7]\n"
     ]
    }
   ],
   "source": [
    "'''\n",
    "Here we create the Session object and evaluate the vector addition.\n",
    "'''\n",
    "sess = tf.Session()\n",
    "print(sess.run(v_add))\n",
    "sess.close()"
   ]
  },
  {
   "cell_type": "code",
   "execution_count": 12,
   "metadata": {},
   "outputs": [
    {
     "name": "stdout",
     "output_type": "stream",
     "text": [
      "[3 3 8 7]\n"
     ]
    }
   ],
   "source": [
    "with tf.Session() as sess:\n",
    "    print(sess.run(v_add)) #advantage of using WITH keyword is that one do no need to close the session"
   ]
  },
  {
   "cell_type": "code",
   "execution_count": 13,
   "metadata": {},
   "outputs": [
    {
     "name": "stdout",
     "output_type": "stream",
     "text": [
      "[array([1, 2, 3, 4], dtype=int32), array([2, 1, 5, 3], dtype=int32), array([3, 3, 8, 7], dtype=int32)]\n"
     ]
    }
   ],
   "source": [
    "with tf.Session() as sess:\n",
    "    print(sess.run([v_1,v_2,v_add])) #we can also run more than one tensor Objects in the session run"
   ]
  },
  {
   "cell_type": "markdown",
   "metadata": {},
   "source": [
    "The above codes have also demonstrated that we can have many session objects in the same program code."
   ]
  },
  {
   "cell_type": "markdown",
   "metadata": {},
   "source": [
    "## Note #2 - InteractiveSession\n",
    "Instead of using tf.Session(), using tf.InteractiveSession() is more convenient because it makes itself the default session so that tensor Objects can be run directly using eval() method without explicitly calling the session."
   ]
  },
  {
   "cell_type": "code",
   "execution_count": 14,
   "metadata": {},
   "outputs": [],
   "source": [
    "import tensorflow as tf\n",
    "sess = tf.InteractiveSession()"
   ]
  },
  {
   "cell_type": "code",
   "execution_count": 15,
   "metadata": {},
   "outputs": [],
   "source": [
    "v_1 = tf.constant([1,2,3,4])\n",
    "v_2 = tf.constant([2,1,5,3])\n",
    "\n",
    "v_add = tf.add(v_1, v_2) # equivalent to v_1 + v_2"
   ]
  },
  {
   "cell_type": "code",
   "execution_count": 16,
   "metadata": {},
   "outputs": [
    {
     "name": "stdout",
     "output_type": "stream",
     "text": [
      "[3 3 8 7]\n"
     ]
    }
   ],
   "source": [
    "print(v_add.eval()) #there is no need to call session as in the previous exercise\n",
    "sess.close()"
   ]
  },
  {
   "cell_type": "markdown",
   "metadata": {},
   "source": [
    "## Note #3 - Constants"
   ]
  },
  {
   "cell_type": "code",
   "execution_count": null,
   "metadata": {},
   "outputs": [],
   "source": [
    "import tensorflow as tf"
   ]
  },
  {
   "cell_type": "code",
   "execution_count": 19,
   "metadata": {},
   "outputs": [],
   "source": [
    "tf.set_random_seed(43) #seed is used to obtain the same random numbers in multiple runs or sessions\n",
    "\n",
    "t_1 = tf.constant(4) #scalar constant\n",
    "t_2 = tf.constant([4,3,2]) #vector constant\n",
    "t_3 = tf.zeros([2,3], tf.int32) #zero matrix of shape [2,3] with dtype of tf.int32\n",
    "t_4 = tf.zeros_like(t_2) #creates a zero matrix of same shape as t_2\n",
    "t_5 = tf.ones_like(t_2) #creates a ones matrix of same shape as t_2\n",
    "t_6 = tf.linspace(2.0, 5.0, 5) #creates a sequence of evenly spaced numbers from #1 argument to #2 argument within total #3 argument value. The corresponding values differ by (#1 arg - #2 arg)/(#3 arg - 1)\n",
    "t_7 = tf.range(0, 10 , 1) #generate a sequence of numbers from #1 arg value to #2 arg value (this value is not included) incremented by #3 arg value.\n",
    "t_8 = tf.random_normal([2,3], mean=2.0, stddev=4) #creates a matrix of shape [2,3] with random values from a normal distribution with the specified mean and s.deviation.\n",
    "t_9 = tf.truncated_normal([1,5], stddev=2) #creates random values from a truncated normal distribution\n",
    "t_10= tf.random_uniform([2,3], maxval=4) #creates a random values from a given gsamma distribution\n",
    "t_11= tf.random_crop(t_9, [2,4]) #randomly crops a given tensor to a specified size\n",
    "t_12= tf.random_shuffle(t_2) #can be used to shuffle a tensor along its first dimension"
   ]
  },
  {
   "cell_type": "markdown",
   "metadata": {},
   "source": [
    "## Note #4 - Variables and Placeholders\n",
    "Every variable has to be initialized. During the initialization, we use constants/random values."
   ]
  },
  {
   "cell_type": "code",
   "execution_count": 1,
   "metadata": {},
   "outputs": [],
   "source": [
    "import tensorflow as tf"
   ]
  },
  {
   "cell_type": "code",
   "execution_count": 2,
   "metadata": {},
   "outputs": [],
   "source": [
    "rand_t = tf.random_uniform([50,50], 0, 10)\n",
    "var_a = tf.Variable(rand_t)\n",
    "var_b = tf.Variable(rand_t) #both var_a and var_b will be initialized with random uniform distribution. NOTE that the randomization will be diff since the constant is called twice\n",
    "var_c = tf.Variable(var_a.initialized_value(), name='var_c') #a variable can also be initialized from another variable"
   ]
  },
  {
   "cell_type": "code",
   "execution_count": null,
   "metadata": {},
   "outputs": [],
   "source": [
    "#THIS BLOCK OF CODE IS NOT MEANT FOR EXECUTION!\n",
    "#even though we seem to have defined the initialization, we would run into error if we run this block of code.\n",
    "with tf.Session() as sess:\n",
    "    print(sess.run(var_b)) "
   ]
  },
  {
   "cell_type": "markdown",
   "metadata": {},
   "source": [
    "In tensorflow, we have to explicitly initialize **ALL** declared variables. We do so by :"
   ]
  },
  {
   "cell_type": "code",
   "execution_count": null,
   "metadata": {},
   "outputs": [],
   "source": [
    "initial_op = tf.global_variables_initializer() #explicitly initialize the variables\n",
    "with tf.Session() as sess:\n",
    "    sess.run(initial_op) #run the initializer\n",
    "    print(sess.run(var_b)) "
   ]
  },
  {
   "cell_type": "code",
   "execution_count": 3,
   "metadata": {},
   "outputs": [
    {
     "name": "stdout",
     "output_type": "stream",
     "text": [
      "[[1.8964839 4.5652103 9.164722  ... 2.3978484 0.8093226 2.2567189]\n",
      " [2.080567  7.3989735 2.0146382 ... 8.634053  5.170079  1.3776481]\n",
      " [6.5544534 3.0456007 6.645011  ... 6.9880676 2.5905037 7.4824657]\n",
      " ...\n",
      " [9.438828  2.6360118 5.820627  ... 7.1975923 0.187217  5.899929 ]\n",
      " [2.2894633 2.941078  9.10878   ... 4.4924173 7.60329   2.7881157]\n",
      " [5.921897  2.238748  1.7116547 ... 7.1308303 9.877674  1.6061211]]\n"
     ]
    }
   ],
   "source": [
    "with tf.Session() as sess:\n",
    "    sess.run(var_a.initializer) #each variable can also be separately initialized\n",
    "    print(sess.run(var_a))"
   ]
  },
  {
   "cell_type": "markdown",
   "metadata": {},
   "source": [
    "Variables can be saved by using the Saver class."
   ]
  },
  {
   "cell_type": "code",
   "execution_count": null,
   "metadata": {},
   "outputs": [],
   "source": [
    "#THIS BLOCK OF CODE IS NOT MEANT FOR EXECUTION!\n",
    "saver = tf.train.Saver() #define a saver Operation object\n",
    "saver.save(sess, \"PATH TO SAVE THE MODEL\") #save the model in the specified path"
   ]
  },
  {
   "cell_type": "markdown",
   "metadata": {},
   "source": [
    "Placeholders are used to feed data to the computational graph. When declaring a placeholder, the data type has to be specified."
   ]
  },
  {
   "cell_type": "code",
   "execution_count": null,
   "metadata": {},
   "outputs": [],
   "source": [
    "#THIS BLOCK OF CODE IS NOT MEANT FOR EXECUTION!\n",
    "tf.placeholder(dtype, shape=None, name=None) #declaration of a placeholder"
   ]
  },
  {
   "cell_type": "code",
   "execution_count": 8,
   "metadata": {},
   "outputs": [
    {
     "name": "stdout",
     "output_type": "stream",
     "text": [
      "[[ 9.389202   3.467741  10.49844   17.813438   8.680158 ]\n",
      " [17.536482   9.673686  14.487807   7.920433   7.9131165]\n",
      " [14.9658375 17.985691  17.422188   2.385315  10.52467  ]\n",
      " [ 8.660049  19.159412  15.698173   6.0707455  6.3821735]]\n"
     ]
    }
   ],
   "source": [
    "x = tf.placeholder(\"float\") #declare a placeholder\n",
    "y = 2 * x #operation involving the placeholder\n",
    "\n",
    "data = tf.random_uniform([4,5], 10) #constant\n",
    "with tf.Session() as sess:\n",
    "    x_data = sess.run(data) #run the constant\n",
    "    print(sess.run(y, feed_dict={x:x_data})) #feed the data to the graph with feed_dict"
   ]
  },
  {
   "cell_type": "markdown",
   "metadata": {},
   "source": [
    "## Note #5 - Memory optimization"
   ]
  },
  {
   "cell_type": "markdown",
   "metadata": {},
   "source": [
    "**NOTE** : Constants are stored in the computation graph definition. They are loaded every time the graph is loaded. i.e. They are memory expensive. Variables are stored separately. They can exist on the parameter server."
   ]
  },
  {
   "cell_type": "markdown",
   "metadata": {},
   "source": [
    "Therefore, to optimize memory, we can declare constant tensor objects as variables with a trainable flag set to False."
   ]
  },
  {
   "cell_type": "code",
   "execution_count": null,
   "metadata": {},
   "outputs": [],
   "source": [
    "import tensorflow as tf"
   ]
  },
  {
   "cell_type": "code",
   "execution_count": 23,
   "metadata": {},
   "outputs": [],
   "source": [
    "large_tensor = tf.Variable(tf.ones([9,1,2,3,4]), trainable = False)\n",
    "converted_to_tensor = tf.convert_to_tensor(large_tensor) #this function converts the given value to tensor type. It accepts Numpy arrays, Python Lists and Python scalars. Converted values can have the functionalities offered by Tensorflow for tensors."
   ]
  },
  {
   "cell_type": "markdown",
   "metadata": {},
   "source": [
    "## Note #6 - Matrix Multiplications"
   ]
  },
  {
   "cell_type": "code",
   "execution_count": 24,
   "metadata": {},
   "outputs": [],
   "source": [
    "import tensorflow as tf\n",
    "\n",
    "sess = tf.InteractiveSession() #easier to evaluate"
   ]
  },
  {
   "cell_type": "code",
   "execution_count": 27,
   "metadata": {},
   "outputs": [
    {
     "name": "stdout",
     "output_type": "stream",
     "text": [
      "[[1. 0. 0. 0. 0. 0. 0. 0. 0. 0.]\n",
      " [0. 1. 0. 0. 0. 0. 0. 0. 0. 0.]\n",
      " [0. 0. 1. 0. 0. 0. 0. 0. 0. 0.]\n",
      " [0. 0. 0. 1. 0. 0. 0. 0. 0. 0.]\n",
      " [0. 0. 0. 0. 1. 0. 0. 0. 0. 0.]\n",
      " [0. 0. 0. 0. 0. 1. 0. 0. 0. 0.]\n",
      " [0. 0. 0. 0. 0. 0. 1. 0. 0. 0.]\n",
      " [0. 0. 0. 0. 0. 0. 0. 1. 0. 0.]\n",
      " [0. 0. 0. 0. 0. 0. 0. 0. 1. 0.]\n",
      " [0. 0. 0. 0. 0. 0. 0. 0. 0. 1.]]\n"
     ]
    }
   ],
   "source": [
    "X = tf.Variable(tf.eye(10)) #creates a 10 X 10 identity matrix\n",
    "X.initializer.run() #initialize the variable\n",
    "print(X.eval())"
   ]
  },
  {
   "cell_type": "code",
   "execution_count": 30,
   "metadata": {},
   "outputs": [
    {
     "name": "stdout",
     "output_type": "stream",
     "text": [
      "[[-0.61645263  1.2695673   0.40997666  0.09729175 -0.7119555   0.52272874\n",
      "  -0.9224226  -1.6855867   0.8459395  -0.5639731 ]\n",
      " [ 0.77575356  0.7192528  -1.3488761  -0.36433128  1.2242557  -0.8363876\n",
      "  -0.37827083 -1.2279415  -1.6631497  -0.10717663]\n",
      " [ 0.275929   -0.9261481   0.44239503  1.9919286   0.43826592  0.8752491\n",
      "   1.4146824  -1.3000225  -0.03834274  0.91720986]\n",
      " [ 0.3548071  -0.73538655  1.5615283   0.9892348   1.2603787   0.23495422\n",
      "  -2.1598835   0.7572748   0.92376167  0.50991154]\n",
      " [-0.10923921 -0.8093292  -0.4873044  -0.60817075  1.037938    0.27806193\n",
      "   0.7924621   0.6411436   0.26509443  0.42258847]]\n"
     ]
    }
   ],
   "source": [
    "A = tf.Variable(tf.random_normal([5,10])) #shape of A is [5,10]\n",
    "A.initializer.run()\n",
    "print(A.eval())"
   ]
  },
  {
   "cell_type": "code",
   "execution_count": 34,
   "metadata": {},
   "outputs": [
    {
     "name": "stdout",
     "output_type": "stream",
     "text": [
      "[[-0.61645263  1.2695673   0.40997666  0.09729175 -0.7119555   0.52272874\n",
      "  -0.9224226  -1.6855867   0.8459395  -0.5639731 ]\n",
      " [ 0.77575356  0.7192528  -1.3488761  -0.36433128  1.2242557  -0.8363876\n",
      "  -0.37827083 -1.2279415  -1.6631497  -0.10717663]\n",
      " [ 0.275929   -0.9261481   0.44239503  1.9919286   0.43826592  0.8752491\n",
      "   1.4146824  -1.3000225  -0.03834274  0.91720986]\n",
      " [ 0.3548071  -0.73538655  1.5615283   0.9892348   1.2603787   0.23495422\n",
      "  -2.1598835   0.7572748   0.92376167  0.50991154]\n",
      " [-0.10923921 -0.8093292  -0.4873044  -0.60817075  1.037938    0.27806193\n",
      "   0.7924621   0.6411436   0.26509443  0.42258847]]\n"
     ]
    }
   ],
   "source": [
    "prod = tf.matmul(A,X) #matrix multiplication between A and X. Since A is 5 X 10 and X is 10 X 10, prod is 5 X 10\n",
    "print(prod.eval())\n",
    "#tf.matmul(X,A) would not work because X is 10 X 10 while A is 5 X 10"
   ]
  },
  {
   "cell_type": "code",
   "execution_count": null,
   "metadata": {},
   "outputs": [],
   "source": [
    "#THIS BLOCK OF CODE IS NOT MEANT FOR EXECUTION!\n",
    "A = a * b #element-wise multiplication\n",
    "B = tf.scalar_mul(2, A) #multiplication with a scalar 2\n",
    "C = tf.div(a,b) #element-wise division\n",
    "D = tf.mod(a,b) #element-wise remainder of division\n",
    "tf.cast() # this function is used to convert Tensors from one data type to another"
   ]
  }
 ],
 "metadata": {
  "kernelspec": {
   "display_name": "nasa",
   "language": "python",
   "name": "nasa"
  },
  "language_info": {
   "codemirror_mode": {
    "name": "ipython",
    "version": 3
   },
   "file_extension": ".py",
   "mimetype": "text/x-python",
   "name": "python",
   "nbconvert_exporter": "python",
   "pygments_lexer": "ipython3",
   "version": "3.5.2"
  }
 },
 "nbformat": 4,
 "nbformat_minor": 2
}
