{
 "cells": [
  {
   "cell_type": "markdown",
   "metadata": {},
   "source": [
    "# Chapter 1"
   ]
  },
  {
   "cell_type": "markdown",
   "metadata": {},
   "source": [
    "## Note #1 - Computational Graphs and Sessions\n",
    "In Tensorflow, we create the computational graphs first (sort of like blueprints). These computational graphs consists of tensor Objects such as placeholders, constants and variables. They do not have any values associated with them yet. After creating the graphs, we can execute the graph using Session Object. The actual calculations and transfer of information are taken place here. "
   ]
  },
  {
   "cell_type": "code",
   "execution_count": 8,
   "metadata": {},
   "outputs": [],
   "source": [
    "import tensorflow as tf"
   ]
  },
  {
   "cell_type": "code",
   "execution_count": 9,
   "metadata": {},
   "outputs": [],
   "source": [
    "'''\n",
    "This block is the computational graph that creates two vectors and add them together.\n",
    "'''\n",
    "v_1 = tf.constant([1,2,3,4])\n",
    "v_2 = tf.constant([2,1,5,3])\n",
    "v_add = v_1 + v_2"
   ]
  },
  {
   "cell_type": "code",
   "execution_count": 12,
   "metadata": {},
   "outputs": [
    {
     "name": "stdout",
     "output_type": "stream",
     "text": [
      "[3 3 8 7]\n"
     ]
    }
   ],
   "source": [
    "'''\n",
    "Here we create the Session object and evaluate the vector addition.\n",
    "'''\n",
    "sess = tf.Session()\n",
    "print(sess.run(v_add))\n",
    "sess.close()"
   ]
  },
  {
   "cell_type": "code",
   "execution_count": 13,
   "metadata": {},
   "outputs": [
    {
     "name": "stdout",
     "output_type": "stream",
     "text": [
      "[3 3 8 7]\n"
     ]
    }
   ],
   "source": [
    "with tf.Session() as sess:\n",
    "    print(sess.run(v_add)) #advantage of using WITH keyword is that one do no need to close the session"
   ]
  },
  {
   "cell_type": "code",
   "execution_count": 14,
   "metadata": {},
   "outputs": [
    {
     "name": "stdout",
     "output_type": "stream",
     "text": [
      "[array([1, 2, 3, 4], dtype=int32), array([2, 1, 5, 3], dtype=int32), array([3, 3, 8, 7], dtype=int32)]\n"
     ]
    }
   ],
   "source": [
    "with tf.Session() as sess:\n",
    "    print(sess.run([v_1,v_2,v_add])) #we can also run more than one tensor Objects in the session run"
   ]
  },
  {
   "cell_type": "markdown",
   "metadata": {},
   "source": [
    "The above codes have also demonstrated that we can have many session objects in the same program code."
   ]
  },
  {
   "cell_type": "markdown",
   "metadata": {},
   "source": [
    "## Note #2 - InteractiveSession\n",
    "Instead of using tf.Session(), using tf.InteractiveSession() is more convenient because it makes itself the default session so that tensor Objects can be run directly using eval() method without explicitly calling the session."
   ]
  },
  {
   "cell_type": "code",
   "execution_count": 2,
   "metadata": {},
   "outputs": [],
   "source": [
    "import tensorflow as tf\n",
    "sess = tf.InteractiveSession()"
   ]
  },
  {
   "cell_type": "code",
   "execution_count": 4,
   "metadata": {},
   "outputs": [],
   "source": [
    "v_1 = tf.constant([1,2,3,4])\n",
    "v_2 = tf.constant([2,1,5,3])\n",
    "\n",
    "v_add = tf.add(v_1, v_2) # equivalent to v_1 + v_2"
   ]
  },
  {
   "cell_type": "code",
   "execution_count": 5,
   "metadata": {},
   "outputs": [
    {
     "name": "stdout",
     "output_type": "stream",
     "text": [
      "[3 3 8 7]\n"
     ]
    }
   ],
   "source": [
    "print(v_add.eval()) #there is no need to call session as in the previous exercise\n",
    "sess.close()"
   ]
  },
  {
   "cell_type": "markdown",
   "metadata": {},
   "source": [
    "## Note #3 - Constants"
   ]
  },
  {
   "cell_type": "code",
   "execution_count": 6,
   "metadata": {},
   "outputs": [],
   "source": [
    "import tensorflow as tf"
   ]
  },
  {
   "cell_type": "code",
   "execution_count": 9,
   "metadata": {},
   "outputs": [],
   "source": [
    "t_1 = tf.constant(4) #scalar constant\n",
    "t_2 = tf.constant([4,3,2]) #vector constant\n",
    "t_3 = tf.zeros([2,3], tf.int32) #zero matrix of shape [2,3] with dtype of tf.int32\n",
    "t_4 = tf.zeros_like(t_2) #creates a zero matrix of same shape as t_2\n",
    "t_5 = tf.ones_like(t_2) #creates a ones matrix of same shape as t_2\n",
    "t_6 = tf.linspace(2.0, 5.0, 5) #creates a sequence of evenly spaced numbers from #1 argument to #2 argument within total #3 argument value. The corresponding values differ by (#1 arg - #2 arg)/(#3 arg - 1)\n",
    "t_7 = tf.range(0, 10 , 1) #generate a sequence of numbers from #1 arg value to #2 arg value (this value is not included) incremented by #3 arg value.\n",
    "t_8 = tf.random_normal([2,3], mean=2.0, stddev=4) #creates a matrix of shape [2,3] with random values from a normal distribution with the specified mean and s.deviation.\n",
    "t_9 = tf.truncated_normal([1,5], stddev=2) #creates random values from a truncated normal distribution\n",
    "t_10= tf.random_uniform([2,3], maxval=4) #creates a random values from a given gsamma distribution\n",
    "t_11= tf.random_crop(t_9, [2,4]) \n",
    "\n"
   ]
  },
  {
   "cell_type": "code",
   "execution_count": null,
   "metadata": {},
   "outputs": [],
   "source": []
  }
 ],
 "metadata": {
  "kernelspec": {
   "display_name": "nasa",
   "language": "python",
   "name": "nasa"
  },
  "language_info": {
   "codemirror_mode": {
    "name": "ipython",
    "version": 3
   },
   "file_extension": ".py",
   "mimetype": "text/x-python",
   "name": "python",
   "nbconvert_exporter": "python",
   "pygments_lexer": "ipython3",
   "version": "3.5.2"
  }
 },
 "nbformat": 4,
 "nbformat_minor": 2
}
