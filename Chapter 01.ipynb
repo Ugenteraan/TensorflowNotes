{
 "cells": [
  {
   "cell_type": "markdown",
   "metadata": {},
   "source": [
    "# Chapter 1"
   ]
  },
  {
   "cell_type": "markdown",
   "metadata": {},
   "source": [
    "## Note #1 - Computational Graphs and Sessions\n",
    "In Tensorflow, we create the computational graphs first (sort of like blueprints). These computational graphs consists of tensor Objects such as placeholders, constants and variables. They do not have any values associated with them yet. After creating the graphs, we can execute the graph using Session Object. The actual calculations and transfer of information are taken place here. "
   ]
  },
  {
   "cell_type": "code",
   "execution_count": 5,
   "metadata": {},
   "outputs": [],
   "source": [
    "import tensorflow as tf"
   ]
  },
  {
   "cell_type": "code",
   "execution_count": 6,
   "metadata": {},
   "outputs": [],
   "source": [
    "'''\n",
    "This block is the computational graph that creates two vectors and add them together.\n",
    "'''\n",
    "v_1 = tf.constant([1,2,3,4])\n",
    "v_2 = tf.constant([2,1,5,3])\n",
    "v_add = v_1 + v_2"
   ]
  },
  {
   "cell_type": "code",
   "execution_count": 7,
   "metadata": {},
   "outputs": [
    {
     "name": "stdout",
     "output_type": "stream",
     "text": [
      "[3 3 8 7]\n"
     ]
    }
   ],
   "source": [
    "'''\n",
    "Here we create the Session object and evaluate the vector addition.\n",
    "'''\n",
    "sess = tf.Session()\n",
    "print(sess.run(v_add))\n",
    "sess.close()"
   ]
  },
  {
   "cell_type": "code",
   "execution_count": 8,
   "metadata": {},
   "outputs": [
    {
     "name": "stdout",
     "output_type": "stream",
     "text": [
      "[3 3 8 7]\n"
     ]
    }
   ],
   "source": [
    "with tf.Session() as sess:\n",
    "    print(sess.run(v_add)) #advantage of using WITH keyword is that one do no need to close the session"
   ]
  },
  {
   "cell_type": "code",
   "execution_count": 9,
   "metadata": {},
   "outputs": [
    {
     "name": "stdout",
     "output_type": "stream",
     "text": [
      "[array([1, 2, 3, 4], dtype=int32), array([2, 1, 5, 3], dtype=int32), array([3, 3, 8, 7], dtype=int32)]\n"
     ]
    }
   ],
   "source": [
    "with tf.Session() as sess:\n",
    "    print(sess.run([v_1,v_2,v_add])) #we can also run more than one tensor Objects in the session run"
   ]
  },
  {
   "cell_type": "markdown",
   "metadata": {},
   "source": [
    "The above codes have also demonstrated that we can have many session objects in the same program code."
   ]
  },
  {
   "cell_type": "markdown",
   "metadata": {},
   "source": [
    "## Note #2 - InteractiveSession\n",
    "Instead of using tf.Session(), using tf.InteractiveSession() is more convenient because it makes itself the default session so that tensor Objects can be run directly using eval() method without explicitly calling the session."
   ]
  },
  {
   "cell_type": "code",
   "execution_count": 10,
   "metadata": {},
   "outputs": [],
   "source": [
    "import tensorflow as tf\n",
    "sess = tf.InteractiveSession()"
   ]
  },
  {
   "cell_type": "code",
   "execution_count": 11,
   "metadata": {},
   "outputs": [],
   "source": [
    "v_1 = tf.constant([1,2,3,4])\n",
    "v_2 = tf.constant([2,1,5,3])\n",
    "\n",
    "v_add = tf.add(v_1, v_2) # equivalent to v_1 + v_2"
   ]
  },
  {
   "cell_type": "code",
   "execution_count": 12,
   "metadata": {},
   "outputs": [
    {
     "name": "stdout",
     "output_type": "stream",
     "text": [
      "[3 3 8 7]\n"
     ]
    }
   ],
   "source": [
    "print(v_add.eval()) #there is no need to call session as in the previous exercise\n",
    "sess.close()"
   ]
  },
  {
   "cell_type": "markdown",
   "metadata": {},
   "source": [
    "## Note #3 - Constants"
   ]
  },
  {
   "cell_type": "code",
   "execution_count": 13,
   "metadata": {},
   "outputs": [],
   "source": [
    "import tensorflow as tf"
   ]
  },
  {
   "cell_type": "code",
   "execution_count": 14,
   "metadata": {},
   "outputs": [],
   "source": [
    "tf.set_random_seed(43) #seed is used to obtain the same random numbers in multiple runs or sessions\n",
    "\n",
    "t_1 = tf.constant(4) #scalar constant\n",
    "t_2 = tf.constant([4,3,2]) #vector constant\n",
    "t_3 = tf.zeros([2,3], tf.int32) #zero matrix of shape [2,3] with dtype of tf.int32\n",
    "t_4 = tf.zeros_like(t_2) #creates a zero matrix of same shape as t_2\n",
    "t_5 = tf.ones_like(t_2) #creates a ones matrix of same shape as t_2\n",
    "t_6 = tf.linspace(2.0, 5.0, 5) #creates a sequence of evenly spaced numbers from #1 argument to #2 argument within total #3 argument value. The corresponding values differ by (#1 arg - #2 arg)/(#3 arg - 1)\n",
    "t_7 = tf.range(0, 10 , 1) #generate a sequence of numbers from #1 arg value to #2 arg value (this value is not included) incremented by #3 arg value.\n",
    "t_8 = tf.random_normal([2,3], mean=2.0, stddev=4) #creates a matrix of shape [2,3] with random values from a normal distribution with the specified mean and s.deviation.\n",
    "t_9 = tf.truncated_normal([1,5], stddev=2) #creates random values from a truncated normal distribution\n",
    "t_10= tf.random_uniform([2,3], maxval=4) #creates a random values from a given gsamma distribution\n",
    "t_11= tf.random_crop(t_9, [2,4]) #randomly crops a given tensor to a specified size\n",
    "t_12= tf.random_shuffle(t_2) #can be used to shuffle a tensor along its first dimension"
   ]
  },
  {
   "cell_type": "markdown",
   "metadata": {},
   "source": [
    "## Note #4 - Variables and Placeholders\n",
    "Every variable has to be initialized. During the initialization, we use constants/random values."
   ]
  },
  {
   "cell_type": "code",
   "execution_count": 15,
   "metadata": {},
   "outputs": [],
   "source": [
    "import tensorflow as tf"
   ]
  },
  {
   "cell_type": "code",
   "execution_count": 16,
   "metadata": {},
   "outputs": [],
   "source": [
    "rand_t = tf.random_uniform([50,50], 0, 10)\n",
    "var_a = tf.Variable(rand_t)\n",
    "var_b = tf.Variable(rand_t) #both var_a and var_b will be initialized with random uniform distribution. NOTE that the randomization will be diff since the constant is called twice\n",
    "var_c = tf.Variable(var_a.initialized_value(), name='var_c') #a variable can also be initialized from another variable"
   ]
  },
  {
   "cell_type": "code",
   "execution_count": null,
   "metadata": {},
   "outputs": [],
   "source": [
    "#THIS BLOCK OF CODE IS NOT MEANT FOR EXECUTION!\n",
    "#even though we seem to have defined the initialization, we would run into error if we run this block of code.\n",
    "with tf.Session() as sess:\n",
    "    print(sess.run(var_b)) "
   ]
  },
  {
   "cell_type": "markdown",
   "metadata": {},
   "source": [
    "In tensorflow, we have to explicitly initialize **ALL** declared variables. We do so by :"
   ]
  },
  {
   "cell_type": "code",
   "execution_count": 17,
   "metadata": {},
   "outputs": [
    {
     "name": "stdout",
     "output_type": "stream",
     "text": [
      "[[3.2807982 0.9483731 6.4560165 ... 7.681868  1.5499115 7.1246347]\n",
      " [6.808053  5.982151  1.6034627 ... 9.885722  5.519924  9.597698 ]\n",
      " [2.343185  1.4051807 1.030035  ... 1.331507  1.2694907 0.644027 ]\n",
      " ...\n",
      " [3.726467  3.63001   5.916407  ... 1.2143588 2.585063  6.579155 ]\n",
      " [9.83129   2.597053  8.234978  ... 1.8044603 2.7112389 9.690228 ]\n",
      " [1.5957212 8.435434  2.742635  ... 5.5689964 7.7261043 9.990404 ]]\n"
     ]
    }
   ],
   "source": [
    "initial_op = tf.global_variables_initializer() #explicitly initialize the variables\n",
    "with tf.Session() as sess:\n",
    "    sess.run(initial_op) #run the initializer\n",
    "    print(sess.run(var_b)) "
   ]
  },
  {
   "cell_type": "code",
   "execution_count": 18,
   "metadata": {},
   "outputs": [
    {
     "name": "stdout",
     "output_type": "stream",
     "text": [
      "[[3.2807982 0.9483731 6.4560165 ... 7.681868  1.5499115 7.1246347]\n",
      " [6.808053  5.982151  1.6034627 ... 9.885722  5.519924  9.597698 ]\n",
      " [2.343185  1.4051807 1.030035  ... 1.331507  1.2694907 0.644027 ]\n",
      " ...\n",
      " [3.726467  3.63001   5.916407  ... 1.2143588 2.585063  6.579155 ]\n",
      " [9.83129   2.597053  8.234978  ... 1.8044603 2.7112389 9.690228 ]\n",
      " [1.5957212 8.435434  2.742635  ... 5.5689964 7.7261043 9.990404 ]]\n"
     ]
    }
   ],
   "source": [
    "with tf.Session() as sess:\n",
    "    sess.run(var_a.initializer) #each variable can also be separately initialized\n",
    "    print(sess.run(var_a))"
   ]
  },
  {
   "cell_type": "markdown",
   "metadata": {},
   "source": [
    "Variables can be saved by using the Saver class."
   ]
  },
  {
   "cell_type": "code",
   "execution_count": null,
   "metadata": {},
   "outputs": [],
   "source": [
    "#THIS BLOCK OF CODE IS NOT MEANT FOR EXECUTION!\n",
    "saver = tf.train.Saver() #define a saver Operation object\n",
    "saver.save(sess, \"PATH TO SAVE THE MODEL\") #save the model in the specified path"
   ]
  },
  {
   "cell_type": "markdown",
   "metadata": {},
   "source": [
    "Placeholders are used to feed data to the computational graph. When declaring a placeholder, the data type has to be specified."
   ]
  },
  {
   "cell_type": "code",
   "execution_count": null,
   "metadata": {},
   "outputs": [],
   "source": [
    "#THIS BLOCK OF CODE IS NOT MEANT FOR EXECUTION!\n",
    "tf.placeholder(dtype, shape=None, name=None) #declaration of a placeholder"
   ]
  },
  {
   "cell_type": "code",
   "execution_count": 19,
   "metadata": {},
   "outputs": [
    {
     "name": "stdout",
     "output_type": "stream",
     "text": [
      "[[ 7.694598   2.1374989  8.848091  17.438251   4.201186 ]\n",
      " [ 7.5156755  8.030462  19.753056  16.99377   19.806532 ]\n",
      " [18.11021    2.3770256  9.086744   2.817646  11.190812 ]\n",
      " [14.517649  10.188196   8.768955   5.226556   2.5024529]]\n"
     ]
    }
   ],
   "source": [
    "x = tf.placeholder(\"float\") #declare a placeholder\n",
    "y = 2 * x #operation involving the placeholder\n",
    "\n",
    "data = tf.random_uniform([4,5], 10) #constant\n",
    "with tf.Session() as sess:\n",
    "    x_data = sess.run(data) #run the constant\n",
    "    print(sess.run(y, feed_dict={x:x_data})) #feed the data to the graph with feed_dict"
   ]
  },
  {
   "cell_type": "markdown",
   "metadata": {},
   "source": [
    "## Note #5 - Memory optimization"
   ]
  },
  {
   "cell_type": "markdown",
   "metadata": {},
   "source": [
    "**NOTE** : Constants are stored in the computation graph definition. They are loaded every time the graph is loaded. i.e. They are memory expensive. Variables are stored separately. They can exist on the parameter server."
   ]
  },
  {
   "cell_type": "markdown",
   "metadata": {},
   "source": [
    "Therefore, to optimize memory, we can declare constant tensor objects as variables with a trainable flag set to False."
   ]
  },
  {
   "cell_type": "code",
   "execution_count": 20,
   "metadata": {},
   "outputs": [],
   "source": [
    "import tensorflow as tf"
   ]
  },
  {
   "cell_type": "code",
   "execution_count": 21,
   "metadata": {},
   "outputs": [],
   "source": [
    "large_tensor = tf.Variable(tf.ones([9,1,2,3,4]), trainable = False)\n",
    "converted_to_tensor = tf.convert_to_tensor(large_tensor) #this function converts the given value to tensor type. It accepts Numpy arrays, Python Lists and Python scalars. Converted values can have the functionalities offered by Tensorflow for tensors."
   ]
  },
  {
   "cell_type": "markdown",
   "metadata": {},
   "source": [
    "## Note #6 - Matrix Multiplications"
   ]
  },
  {
   "cell_type": "code",
   "execution_count": 1,
   "metadata": {},
   "outputs": [],
   "source": [
    "import tensorflow as tf\n",
    "\n",
    "sess = tf.InteractiveSession() #easier to evaluate"
   ]
  },
  {
   "cell_type": "code",
   "execution_count": 2,
   "metadata": {},
   "outputs": [
    {
     "name": "stdout",
     "output_type": "stream",
     "text": [
      "[[1. 0. 0. 0. 0. 0. 0. 0. 0. 0.]\n",
      " [0. 1. 0. 0. 0. 0. 0. 0. 0. 0.]\n",
      " [0. 0. 1. 0. 0. 0. 0. 0. 0. 0.]\n",
      " [0. 0. 0. 1. 0. 0. 0. 0. 0. 0.]\n",
      " [0. 0. 0. 0. 1. 0. 0. 0. 0. 0.]\n",
      " [0. 0. 0. 0. 0. 1. 0. 0. 0. 0.]\n",
      " [0. 0. 0. 0. 0. 0. 1. 0. 0. 0.]\n",
      " [0. 0. 0. 0. 0. 0. 0. 1. 0. 0.]\n",
      " [0. 0. 0. 0. 0. 0. 0. 0. 1. 0.]\n",
      " [0. 0. 0. 0. 0. 0. 0. 0. 0. 1.]]\n"
     ]
    }
   ],
   "source": [
    "X = tf.Variable(tf.eye(10)) #creates a 10 X 10 identity matrix\n",
    "X.initializer.run() #initialize the variable\n",
    "print(X.eval())"
   ]
  },
  {
   "cell_type": "code",
   "execution_count": 3,
   "metadata": {},
   "outputs": [
    {
     "name": "stdout",
     "output_type": "stream",
     "text": [
      "[[-1.2581058  -1.2928249   1.210592    0.90885127  0.32108334  1.235608\n",
      "   1.0915262  -0.1029485  -0.79255587  0.587188  ]\n",
      " [-1.3728172  -0.25091788 -0.3501985   0.9381341  -0.00552434  0.809213\n",
      "  -1.6306849   1.3454828  -0.98712724 -0.70612895]\n",
      " [-2.3624172  -1.1597025  -0.7181455  -0.18346421 -0.37870577  0.4053657\n",
      "  -0.34864923 -0.8186537  -2.0908263  -0.3720705 ]\n",
      " [-0.5587503   0.36042702 -0.2172574  -0.13619396 -0.45643774  1.2256805\n",
      "   0.16534664 -0.84096736  0.31392846 -1.4535825 ]\n",
      " [ 0.26053375 -1.6931767   0.3063439  -0.7508957  -0.49403825  0.089265\n",
      "   0.88707167  1.220826    0.14635319  0.73631763]]\n"
     ]
    }
   ],
   "source": [
    "A = tf.Variable(tf.random_normal([5,10])) #shape of A is [5,10]\n",
    "A.initializer.run()\n",
    "print(A.eval())"
   ]
  },
  {
   "cell_type": "code",
   "execution_count": 4,
   "metadata": {},
   "outputs": [
    {
     "name": "stdout",
     "output_type": "stream",
     "text": [
      "[[-1.2581058  -1.2928249   1.210592    0.90885127  0.32108334  1.235608\n",
      "   1.0915262  -0.1029485  -0.79255587  0.587188  ]\n",
      " [-1.3728172  -0.25091788 -0.3501985   0.9381341  -0.00552434  0.809213\n",
      "  -1.6306849   1.3454828  -0.98712724 -0.70612895]\n",
      " [-2.3624172  -1.1597025  -0.7181455  -0.18346421 -0.37870577  0.4053657\n",
      "  -0.34864923 -0.8186537  -2.0908263  -0.3720705 ]\n",
      " [-0.5587503   0.36042702 -0.2172574  -0.13619396 -0.45643774  1.2256805\n",
      "   0.16534664 -0.84096736  0.31392846 -1.4535825 ]\n",
      " [ 0.26053375 -1.6931767   0.3063439  -0.7508957  -0.49403825  0.089265\n",
      "   0.88707167  1.220826    0.14635319  0.73631763]]\n"
     ]
    }
   ],
   "source": [
    "prod = tf.matmul(A,X) #matrix multiplication between A and X. Since A is 5 X 10 and X is 10 X 10, prod is 5 X 10\n",
    "print(prod.eval())\n",
    "# tf.matmul(X,A) would not work because X is 10 X 10 while A is 5 X 10\n",
    "sess.close()"
   ]
  },
  {
   "cell_type": "code",
   "execution_count": null,
   "metadata": {},
   "outputs": [],
   "source": [
    "#THIS BLOCK OF CODE IS NOT MEANT FOR EXECUTION!\n",
    "A = a * b #element-wise multiplication\n",
    "B = tf.scalar_mul(2, A) #multiplication with a scalar 2\n",
    "C = tf.div(a,b) #element-wise division\n",
    "D = tf.mod(a,b) #element-wise remainder of division\n",
    "tf.cast() # this function is used to convert Tensors from one data type to another"
   ]
  },
  {
   "cell_type": "markdown",
   "metadata": {},
   "source": [
    "### Tensors"
   ]
  },
  {
   "cell_type": "markdown",
   "metadata": {},
   "source": [
    "#### NOTE that this section is not from the book. It's merely my own understanding of tensors at the time this was written. "
   ]
  },
  {
   "cell_type": "markdown",
   "metadata": {},
   "source": [
    "Tensors are a generalization of matrices. A scalar is 0 rank tensor. Vectors are 1st rank tensors. Matrices are 2nd rank tensors and so on. We can have N-rank tensors. N > 0."
   ]
  },
  {
   "cell_type": "code",
   "execution_count": 22,
   "metadata": {},
   "outputs": [],
   "source": [
    "import tensorflow as tf\n",
    "sess = tf.InteractiveSession()"
   ]
  },
  {
   "cell_type": "code",
   "execution_count": 23,
   "metadata": {},
   "outputs": [
    {
     "name": "stdout",
     "output_type": "stream",
     "text": [
      "The rank of a is :  0  Shape :  ()\n",
      "0.60954714\n",
      "\n",
      "The rank of b is :  1  Shape :  (2,)\n",
      "[0.86102974 0.80000126]\n",
      "\n",
      "The rank of c is :  2  Shape :  (2, 3)\n",
      "[[0.58797777 0.87036157 0.1390984 ]\n",
      " [0.7323103  0.7070484  0.9907458 ]]\n",
      "\n",
      "The rank of d is :  3  Shape :  (3, 2, 4)\n",
      "[[[0.46372962 0.37517262 0.9685943  0.766507  ]\n",
      "  [0.6786097  0.00196981 0.88787866 0.62976086]]\n",
      "\n",
      " [[0.8082291  0.25542676 0.5268885  0.8240441 ]\n",
      "  [0.25015485 0.00376654 0.4717554  0.08332086]]\n",
      "\n",
      " [[0.9627626  0.4235661  0.53491426 0.99145114]\n",
      "  [0.5756924  0.25733638 0.58703923 0.8730457 ]]]\n",
      "\n",
      "The rank of e is :  4  Shape :  (2, 5, 3, 3)\n",
      "[[[[0.31072533 0.55737185 0.2550944 ]\n",
      "   [0.49375498 0.535395   0.9172059 ]\n",
      "   [0.8621429  0.37877798 0.13359714]]\n",
      "\n",
      "  [[0.7645619  0.4193015  0.43837786]\n",
      "   [0.5249001  0.15372467 0.68516827]\n",
      "   [0.83239937 0.50648844 0.27010763]]\n",
      "\n",
      "  [[0.18647242 0.2247144  0.7674117 ]\n",
      "   [0.5546135  0.58755445 0.12114131]\n",
      "   [0.07038653 0.89324117 0.33334148]]\n",
      "\n",
      "  [[0.9168     0.00561512 0.15711093]\n",
      "   [0.62700677 0.7934606  0.88980377]\n",
      "   [0.54793847 0.59055734 0.86253536]]\n",
      "\n",
      "  [[0.9320047  0.41278398 0.6372278 ]\n",
      "   [0.91034806 0.12346351 0.0897646 ]\n",
      "   [0.0977304  0.43074453 0.11859429]]]\n",
      "\n",
      "\n",
      " [[[0.22110426 0.8305361  0.39641833]\n",
      "   [0.14172697 0.03069174 0.34133232]\n",
      "   [0.85022116 0.42033255 0.8564259 ]]\n",
      "\n",
      "  [[0.02218866 0.5211822  0.15626204]\n",
      "   [0.37591088 0.7757542  0.8167503 ]\n",
      "   [0.9309312  0.5221275  0.9709095 ]]\n",
      "\n",
      "  [[0.7498853  0.06003439 0.9266635 ]\n",
      "   [0.5868795  0.21050417 0.4322492 ]\n",
      "   [0.78663254 0.0059973  0.02397382]]\n",
      "\n",
      "  [[0.3215468  0.9059911  0.03508472]\n",
      "   [0.8975612  0.38078833 0.10816038]\n",
      "   [0.60659397 0.6933508  0.11955953]]\n",
      "\n",
      "  [[0.4245665  0.03233814 0.91197   ]\n",
      "   [0.71926284 0.24690247 0.72588205]\n",
      "   [0.6386913  0.93089426 0.0815568 ]]]]\n"
     ]
    }
   ],
   "source": [
    "a = tf.random_uniform([]) #scalar\n",
    "b = tf.random_uniform([2]) #2-D vector\n",
    "c = tf.random_uniform([2,3]) # 2x3 matrix\n",
    "d = tf.random_uniform([3,2,4]) # 3 different sets of 2 x 4 matrices.\n",
    "e = tf.random_uniform([2,5,3,3]) # 2 different sets of 5 different sets of 3 x 3 matrices.\n",
    "#I used the word 'sets' knowing that the chances of 2 sets of matrices to have the same values are very low.\n",
    "\n",
    "a_rank = tf.rank(a)\n",
    "b_rank = tf.rank(b)\n",
    "c_rank = tf.rank(c)\n",
    "d_rank = tf.rank(d)\n",
    "e_rank = tf.rank(e)\n",
    "\n",
    "#GET THE VALUES AND THE RANKS\n",
    "a_val = sess.run(a)\n",
    "a_rank = sess.run(a_rank)\n",
    "\n",
    "b_val = sess.run(b)\n",
    "b_rank = sess.run(b_rank)\n",
    "\n",
    "c_val = sess.run(c)\n",
    "c_rank = sess.run(c_rank)\n",
    "\n",
    "d_val = sess.run(d)\n",
    "d_rank = sess.run(d_rank)\n",
    "\n",
    "e_val = sess.run(e)\n",
    "e_rank = sess.run(e_rank)\n",
    "\n",
    "\n",
    "print(\"The rank of a is : \", a_rank, \" Shape : \", a_val.shape)\n",
    "print(a_val)\n",
    "\n",
    "print(\"\\nThe rank of b is : \", b_rank, \" Shape : \", b_val.shape)\n",
    "print(b_val)\n",
    "\n",
    "print(\"\\nThe rank of c is : \", c_rank, \" Shape : \", c_val.shape)\n",
    "print(c_val)\n",
    "\n",
    "print(\"\\nThe rank of d is : \", d_rank, \" Shape : \", d_val.shape)\n",
    "print(d_val)\n",
    "\n",
    "print(\"\\nThe rank of e is : \", e_rank, \" Shape : \", e_val.shape)\n",
    "print(e_val)"
   ]
  },
  {
   "cell_type": "markdown",
   "metadata": {},
   "source": [
    "**Tiling**"
   ]
  },
  {
   "cell_type": "markdown",
   "metadata": {},
   "source": [
    "tf.tile ()  :This operation creates a new tensor by replicating input multiples times."
   ]
  },
  {
   "cell_type": "code",
   "execution_count": 24,
   "metadata": {},
   "outputs": [
    {
     "name": "stdout",
     "output_type": "stream",
     "text": [
      "Original :\n",
      "[[[0.02821612 0.24848664 0.71703327 0.70859516 0.29021335]]\n",
      "\n",
      " [[0.5872241  0.9671136  0.6879182  0.01659012 0.7272179 ]]]\n",
      "Tiled :\n",
      "\n",
      " [[[0.29671717 0.5724083  0.21955442 0.07671952 0.8188658 ]\n",
      "  [0.29671717 0.5724083  0.21955442 0.07671952 0.8188658 ]\n",
      "  [0.29671717 0.5724083  0.21955442 0.07671952 0.8188658 ]]\n",
      "\n",
      " [[0.40801263 0.13513625 0.4103371  0.3513304  0.3624152 ]\n",
      "  [0.40801263 0.13513625 0.4103371  0.3513304  0.3624152 ]\n",
      "  [0.40801263 0.13513625 0.4103371  0.3513304  0.3624152 ]]]\n"
     ]
    },
    {
     "name": "stderr",
     "output_type": "stream",
     "text": [
      "/home/topiary/nasa/lib/python3.5/site-packages/tensorflow/python/client/session.py:1711: UserWarning: An interactive session is already active. This can cause out-of-memory errors in some cases. You must explicitly call `InteractiveSession.close()` to release resources held by the other session(s).\n",
      "  warnings.warn('An interactive session is already active. This can '\n"
     ]
    }
   ],
   "source": [
    "import tensorflow as tf\n",
    "sess = tf.InteractiveSession()\n",
    "\n",
    "a = tf.random_uniform([2,1,5])\n",
    "b = tf.tile(a, [1,3,1]) #makes a copy of a at axis 1. i.e. the 1 x 5 matrix will be duplicated 3 times.\n",
    "#we will now have 2 different sets of 3x5 matrices. NOTE that each of those matrix is duplicated from 2 different 1 x 5 matrices.\n",
    "\n",
    "val_a = sess.run(a)\n",
    "val_b = sess.run(b)\n",
    "\n",
    "print(\"Original :\")\n",
    "print(val_a)\n",
    "print(\"Tiled :\")\n",
    "print(\"\\n\",val_b)"
   ]
  },
  {
   "cell_type": "markdown",
   "metadata": {},
   "source": [
    "## Note #7 - Invoking CPU/GPU devices\n",
    "Tensorflow can be used on multiple devices in one or more computer system. The names of the supported devices recognized by Tensorflow are \"/device:CPU:0\" , \"/device:GPU:0\" , \"/device:GPU:i\" for the i-th GPU device."
   ]
  },
  {
   "cell_type": "code",
   "execution_count": 25,
   "metadata": {},
   "outputs": [],
   "source": [
    "import tensorflow as tf\n",
    "\n",
    "config=tf.ConfigProto(allow_soft_placement=True, log_device_placement=True) #this flag is to choose the existing and supported device"
   ]
  },
  {
   "cell_type": "code",
   "execution_count": 26,
   "metadata": {},
   "outputs": [
    {
     "name": "stdout",
     "output_type": "stream",
     "text": [
      "[[1524.6902 1155.8137 1315.9207 ... 1313.9629 1500.3273 1523.2443]\n",
      " [1180.9535  860.7671 1109.6384 ... 1228.6918 1361.498  1227.9775]\n",
      " [1509.1243 1178.2604 1327.1133 ... 1384.2269 1529.2356 1497.7799]\n",
      " ...\n",
      " [1449.084  1077.0586 1264.3529 ... 1325.5721 1480.0912 1351.4656]\n",
      " [1262.6982  976.8368 1205.9143 ... 1203.114  1289.372  1017.9338]\n",
      " [1524.532  1184.0737 1374.0588 ... 1483.8293 1639.2434 1464.0505]]\n"
     ]
    }
   ],
   "source": [
    "with tf.device(\"/device:GPU:0\"): #this operation is done using the first GPU\n",
    "    rand_t = tf.random_uniform([50,50], 0,10, dtype=tf.float32)\n",
    "    a = tf.Variable(rand_t)\n",
    "    b = tf.Variable(rand_t)\n",
    "    c = tf.matmul(a,b)\n",
    "    init = tf.global_variables_initializer()\n",
    "\n",
    "sess = tf.Session(config=config)\n",
    "sess.run(init)\n",
    "print(sess.run(c))"
   ]
  }
 ],
 "metadata": {
  "kernelspec": {
   "display_name": "nasa",
   "language": "python",
   "name": "nasa"
  },
  "language_info": {
   "codemirror_mode": {
    "name": "ipython",
    "version": 3
   },
   "file_extension": ".py",
   "mimetype": "text/x-python",
   "name": "python",
   "nbconvert_exporter": "python",
   "pygments_lexer": "ipython3",
   "version": "3.5.2"
  }
 },
 "nbformat": 4,
 "nbformat_minor": 2
}
